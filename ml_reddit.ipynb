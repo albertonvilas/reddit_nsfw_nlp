{
 "cells": [
  {
   "cell_type": "code",
   "execution_count": 176,
   "metadata": {},
   "outputs": [
    {
     "name": "stderr",
     "output_type": "stream",
     "text": [
      "[nltk_data] Downloading package stopwords to C:\\Users\\Alberto\n",
      "[nltk_data]     Vilas\\AppData\\Roaming\\nltk_data...\n",
      "[nltk_data]   Package stopwords is already up-to-date!\n",
      "[nltk_data] Downloading package wordnet to C:\\Users\\Alberto\n",
      "[nltk_data]     Vilas\\AppData\\Roaming\\nltk_data...\n",
      "[nltk_data]   Package wordnet is already up-to-date!\n"
     ]
    }
   ],
   "source": [
    "import pandas as pd\n",
    "import numpy as np\n",
    "\n",
    "\n",
    "import seaborn as sns\n",
    "import matplotlib.pyplot as plt\n",
    "\n",
    "\n",
    "from nltk.tokenize import RegexpTokenizer\n",
    "from nltk.corpus import stopwords\n",
    "import nltk\n",
    "nltk.download('stopwords')\n",
    "from nltk.stem.wordnet import WordNetLemmatizer\n",
    "import nltk\n",
    "nltk.download('wordnet')\n",
    "from nltk.stem import PorterStemmer\n",
    "\n",
    "\n",
    "from sklearn.model_selection import train_test_split\n",
    "\n",
    "import os\n",
    "from wordcloud import WordCloud\n",
    "from PIL import Image\n",
    "\n",
    "from sklearn.utils import resample\n",
    "\n",
    "\n",
    "from sklearn.feature_extraction.text import TfidfVectorizer\n",
    "from sklearn.naive_bayes import MultinomialNB\n",
    "\n",
    "from sklearn.metrics import f1_score\n",
    "from sklearn.metrics import confusion_matrix\n",
    "from sklearn.metrics import accuracy_score\n",
    "from sklearn.metrics import classification_report\n",
    "\n",
    "\n",
    "#https://github.com/briannalytle/reddit_nlp/blob/master/EDA.ipynb\n"
   ]
  },
  {
   "cell_type": "code",
   "execution_count": 131,
   "metadata": {},
   "outputs": [
    {
     "name": "stdout",
     "output_type": "stream",
     "text": [
      "                                               title          time  \\\n",
      "0  AOC Says U.S. 'Must Atone' for Rights Violatio...  1.600175e+09   \n",
      "1  The Mandalorian | Season 2 Official Trailer | ...  1.600178e+09   \n",
      "\n",
      "  description  num_comments  num_upvotes  upvote_ratio link_flair   nsfw  \\\n",
      "0         NaN           655        14641          0.95        NaN  False   \n",
      "1         NaN          1122         9638          0.97         TV  False   \n",
      "\n",
      "                                     subreddit_title          redditor  \\\n",
      "0                                           Politics  MatrixCapitalism   \n",
      "1  Star Wars - A long time ago, in a galaxy far, ...         raynehk14   \n",
      "\n",
      "                                                 url  \n",
      "0  https://www.newsweek.com/aoc-us-must-atone-rig...  \n",
      "1        https://www.youtube.com/watch?v=eW7Twd85m2g  \n"
     ]
    }
   ],
   "source": [
    "df = pd.read_csv(\"reddit_hot_submissions.csv\")\n",
    "print(df.head(2))"
   ]
  },
  {
   "cell_type": "markdown",
   "metadata": {},
   "source": [
    "Convert target to binary"
   ]
  },
  {
   "cell_type": "code",
   "execution_count": 132,
   "metadata": {},
   "outputs": [],
   "source": [
    "df['nsfw'] = [1 if n==True else 0 for n in df.nsfw]"
   ]
  },
  {
   "cell_type": "code",
   "execution_count": 133,
   "metadata": {},
   "outputs": [
    {
     "name": "stdout",
     "output_type": "stream",
     "text": [
      "<class 'pandas.core.frame.DataFrame'>\n",
      "RangeIndex: 1000 entries, 0 to 999\n",
      "Data columns (total 11 columns):\n",
      " #   Column           Non-Null Count  Dtype  \n",
      "---  ------           --------------  -----  \n",
      " 0   title            1000 non-null   object \n",
      " 1   time             1000 non-null   float64\n",
      " 2   description      58 non-null     object \n",
      " 3   num_comments     1000 non-null   int64  \n",
      " 4   num_upvotes      1000 non-null   int64  \n",
      " 5   upvote_ratio     1000 non-null   float64\n",
      " 6   link_flair       415 non-null    object \n",
      " 7   nsfw             1000 non-null   int64  \n",
      " 8   subreddit_title  1000 non-null   object \n",
      " 9   redditor         1000 non-null   object \n",
      " 10  url              1000 non-null   object \n",
      "dtypes: float64(2), int64(3), object(6)\n",
      "memory usage: 86.1+ KB\n"
     ]
    }
   ],
   "source": [
    "df.info()"
   ]
  },
  {
   "cell_type": "code",
   "execution_count": 134,
   "metadata": {},
   "outputs": [
    {
     "data": {
      "text/plain": [
       "<matplotlib.axes._subplots.AxesSubplot at 0x2cf32870e50>"
      ]
     },
     "execution_count": 134,
     "metadata": {},
     "output_type": "execute_result"
    },
    {
     "data": {
      "image/png": "[encoded data removed]",
      "text/plain": [
       "<Figure size 432x288 with 1 Axes>"
      ]
     },
     "metadata": {
      "needs_background": "light"
     },
     "output_type": "display_data"
    }
   ],
   "source": [
    "sns.countplot(x='nsfw', data=df)"
   ]
  },
  {
   "cell_type": "markdown",
   "metadata": {},
   "source": [
    "Replace NaN with ' ', because it's necessary for df.title + df.description\n",
    "\n",
    "Because tittle + description is a better field \n"
   ]
  },
  {
   "cell_type": "code",
   "execution_count": 135,
   "metadata": {},
   "outputs": [
    {
     "data": {
      "text/html": [
       "<div>\n",
       "<style scoped>\n",
       "    .dataframe tbody tr th:only-of-type {\n",
       "        vertical-align: middle;\n",
       "    }\n",
       "\n",
       "    .dataframe tbody tr th {\n",
       "        vertical-align: top;\n",
       "    }\n",
       "\n",
       "    .dataframe thead th {\n",
       "        text-align: right;\n",
       "    }\n",
       "</style>\n",
       "<table border=\"1\" class=\"dataframe\">\n",
       "  <thead>\n",
       "    <tr style=\"text-align: right;\">\n",
       "      <th></th>\n",
       "      <th>title</th>\n",
       "      <th>time</th>\n",
       "      <th>description</th>\n",
       "      <th>num_comments</th>\n",
       "      <th>num_upvotes</th>\n",
       "      <th>upvote_ratio</th>\n",
       "      <th>link_flair</th>\n",
       "      <th>nsfw</th>\n",
       "      <th>subreddit_title</th>\n",
       "      <th>redditor</th>\n",
       "      <th>url</th>\n",
       "      <th>all_text</th>\n",
       "    </tr>\n",
       "  </thead>\n",
       "  <tbody>\n",
       "    <tr>\n",
       "      <th>0</th>\n",
       "      <td>AOC Says U.S. 'Must Atone' for Rights Violatio...</td>\n",
       "      <td>1.600175e+09</td>\n",
       "      <td></td>\n",
       "      <td>655</td>\n",
       "      <td>14641</td>\n",
       "      <td>0.95</td>\n",
       "      <td>NaN</td>\n",
       "      <td>0</td>\n",
       "      <td>Politics</td>\n",
       "      <td>MatrixCapitalism</td>\n",
       "      <td>https://www.newsweek.com/aoc-us-must-atone-rig...</td>\n",
       "      <td>AOC Says U.S. 'Must Atone' for Rights Violatio...</td>\n",
       "    </tr>\n",
       "    <tr>\n",
       "      <th>1</th>\n",
       "      <td>The Mandalorian | Season 2 Official Trailer | ...</td>\n",
       "      <td>1.600178e+09</td>\n",
       "      <td></td>\n",
       "      <td>1122</td>\n",
       "      <td>9638</td>\n",
       "      <td>0.97</td>\n",
       "      <td>TV</td>\n",
       "      <td>0</td>\n",
       "      <td>Star Wars - A long time ago, in a galaxy far, ...</td>\n",
       "      <td>raynehk14</td>\n",
       "      <td>https://www.youtube.com/watch?v=eW7Twd85m2g</td>\n",
       "      <td>The Mandalorian | Season 2 Official Trailer | ...</td>\n",
       "    </tr>\n",
       "    <tr>\n",
       "      <th>2</th>\n",
       "      <td>Russian opposition leader Alexei Navalny share...</td>\n",
       "      <td>1.600170e+09</td>\n",
       "      <td></td>\n",
       "      <td>1427</td>\n",
       "      <td>53426</td>\n",
       "      <td>0.96</td>\n",
       "      <td>NaN</td>\n",
       "      <td>0</td>\n",
       "      <td>Reddit Pics</td>\n",
       "      <td>unknown_human</td>\n",
       "      <td>https://i.redd.it/75deaqxztan51.jpg</td>\n",
       "      <td>Russian opposition leader Alexei Navalny share...</td>\n",
       "    </tr>\n",
       "    <tr>\n",
       "      <th>3</th>\n",
       "      <td>The Big True</td>\n",
       "      <td>1.600171e+09</td>\n",
       "      <td></td>\n",
       "      <td>308</td>\n",
       "      <td>27384</td>\n",
       "      <td>0.97</td>\n",
       "      <td>NaN</td>\n",
       "      <td>0</td>\n",
       "      <td>People Person's Paper People</td>\n",
       "      <td>SpongeNoob24</td>\n",
       "      <td>https://v.redd.it/pipkbc6ywan51</td>\n",
       "      <td>The Big True</td>\n",
       "    </tr>\n",
       "    <tr>\n",
       "      <th>4</th>\n",
       "      <td>TIL Ray Burton, who was the father of Cliff Bu...</td>\n",
       "      <td>1.600169e+09</td>\n",
       "      <td></td>\n",
       "      <td>954</td>\n",
       "      <td>39959</td>\n",
       "      <td>0.94</td>\n",
       "      <td>NaN</td>\n",
       "      <td>0</td>\n",
       "      <td>Today I Learned (TIL)</td>\n",
       "      <td>phantom416</td>\n",
       "      <td>https://loudwire.com/cliff-burton-father-donat...</td>\n",
       "      <td>TIL Ray Burton, who was the father of Cliff Bu...</td>\n",
       "    </tr>\n",
       "  </tbody>\n",
       "</table>\n",
       "</div>"
      ],
      "text/plain": [
       "                                               title          time  \\\n",
       "0  AOC Says U.S. 'Must Atone' for Rights Violatio...  1.600175e+09   \n",
       "1  The Mandalorian | Season 2 Official Trailer | ...  1.600178e+09   \n",
       "2  Russian opposition leader Alexei Navalny share...  1.600170e+09   \n",
       "3                                       The Big True  1.600171e+09   \n",
       "4  TIL Ray Burton, who was the father of Cliff Bu...  1.600169e+09   \n",
       "\n",
       "  description  num_comments  num_upvotes  upvote_ratio link_flair  nsfw  \\\n",
       "0                       655        14641          0.95        NaN     0   \n",
       "1                      1122         9638          0.97         TV     0   \n",
       "2                      1427        53426          0.96        NaN     0   \n",
       "3                       308        27384          0.97        NaN     0   \n",
       "4                       954        39959          0.94        NaN     0   \n",
       "\n",
       "                                     subreddit_title          redditor  \\\n",
       "0                                           Politics  MatrixCapitalism   \n",
       "1  Star Wars - A long time ago, in a galaxy far, ...         raynehk14   \n",
       "2                                        Reddit Pics     unknown_human   \n",
       "3                       People Person's Paper People      SpongeNoob24   \n",
       "4                              Today I Learned (TIL)        phantom416   \n",
       "\n",
       "                                                 url  \\\n",
       "0  https://www.newsweek.com/aoc-us-must-atone-rig...   \n",
       "1        https://www.youtube.com/watch?v=eW7Twd85m2g   \n",
       "2                https://i.redd.it/75deaqxztan51.jpg   \n",
       "3                    https://v.redd.it/pipkbc6ywan51   \n",
       "4  https://loudwire.com/cliff-burton-father-donat...   \n",
       "\n",
       "                                            all_text  \n",
       "0  AOC Says U.S. 'Must Atone' for Rights Violatio...  \n",
       "1  The Mandalorian | Season 2 Official Trailer | ...  \n",
       "2  Russian opposition leader Alexei Navalny share...  \n",
       "3                                      The Big True   \n",
       "4  TIL Ray Burton, who was the father of Cliff Bu...  "
      ]
     },
     "execution_count": 135,
     "metadata": {},
     "output_type": "execute_result"
    }
   ],
   "source": [
    "df['description']=df['description'].replace(np.nan, \" \")\n",
    "df['all_text'] = df['title'] + df['description']\n",
    "df.head()"
   ]
  },
  {
   "cell_type": "code",
   "execution_count": 136,
   "metadata": {},
   "outputs": [
    {
     "data": {
      "text/html": [
       "<div>\n",
       "<style scoped>\n",
       "    .dataframe tbody tr th:only-of-type {\n",
       "        vertical-align: middle;\n",
       "    }\n",
       "\n",
       "    .dataframe tbody tr th {\n",
       "        vertical-align: top;\n",
       "    }\n",
       "\n",
       "    .dataframe thead tr th {\n",
       "        text-align: left;\n",
       "    }\n",
       "\n",
       "    .dataframe thead tr:last-of-type th {\n",
       "        text-align: right;\n",
       "    }\n",
       "</style>\n",
       "<table border=\"1\" class=\"dataframe\">\n",
       "  <thead>\n",
       "    <tr>\n",
       "      <th></th>\n",
       "      <th colspan=\"8\" halign=\"left\">time</th>\n",
       "      <th colspan=\"2\" halign=\"left\">num_comments</th>\n",
       "      <th>...</th>\n",
       "      <th colspan=\"2\" halign=\"left\">num_upvotes</th>\n",
       "      <th colspan=\"8\" halign=\"left\">upvote_ratio</th>\n",
       "    </tr>\n",
       "    <tr>\n",
       "      <th></th>\n",
       "      <th>count</th>\n",
       "      <th>mean</th>\n",
       "      <th>std</th>\n",
       "      <th>min</th>\n",
       "      <th>25%</th>\n",
       "      <th>50%</th>\n",
       "      <th>75%</th>\n",
       "      <th>max</th>\n",
       "      <th>count</th>\n",
       "      <th>mean</th>\n",
       "      <th>...</th>\n",
       "      <th>75%</th>\n",
       "      <th>max</th>\n",
       "      <th>count</th>\n",
       "      <th>mean</th>\n",
       "      <th>std</th>\n",
       "      <th>min</th>\n",
       "      <th>25%</th>\n",
       "      <th>50%</th>\n",
       "      <th>75%</th>\n",
       "      <th>max</th>\n",
       "    </tr>\n",
       "    <tr>\n",
       "      <th>nsfw</th>\n",
       "      <th></th>\n",
       "      <th></th>\n",
       "      <th></th>\n",
       "      <th></th>\n",
       "      <th></th>\n",
       "      <th></th>\n",
       "      <th></th>\n",
       "      <th></th>\n",
       "      <th></th>\n",
       "      <th></th>\n",
       "      <th></th>\n",
       "      <th></th>\n",
       "      <th></th>\n",
       "      <th></th>\n",
       "      <th></th>\n",
       "      <th></th>\n",
       "      <th></th>\n",
       "      <th></th>\n",
       "      <th></th>\n",
       "      <th></th>\n",
       "      <th></th>\n",
       "    </tr>\n",
       "  </thead>\n",
       "  <tbody>\n",
       "    <tr>\n",
       "      <th>0</th>\n",
       "      <td>908.0</td>\n",
       "      <td>1.600160e+09</td>\n",
       "      <td>13693.900563</td>\n",
       "      <td>1.600118e+09</td>\n",
       "      <td>1.600151e+09</td>\n",
       "      <td>1.600164e+09</td>\n",
       "      <td>1.600171e+09</td>\n",
       "      <td>1.600183e+09</td>\n",
       "      <td>908.0</td>\n",
       "      <td>236.007709</td>\n",
       "      <td>...</td>\n",
       "      <td>7399.50</td>\n",
       "      <td>100033.0</td>\n",
       "      <td>908.0</td>\n",
       "      <td>0.965374</td>\n",
       "      <td>0.033502</td>\n",
       "      <td>0.65</td>\n",
       "      <td>0.96</td>\n",
       "      <td>0.98</td>\n",
       "      <td>0.98</td>\n",
       "      <td>1.00</td>\n",
       "    </tr>\n",
       "    <tr>\n",
       "      <th>1</th>\n",
       "      <td>92.0</td>\n",
       "      <td>1.600161e+09</td>\n",
       "      <td>12416.817225</td>\n",
       "      <td>1.600129e+09</td>\n",
       "      <td>1.600158e+09</td>\n",
       "      <td>1.600166e+09</td>\n",
       "      <td>1.600170e+09</td>\n",
       "      <td>1.600182e+09</td>\n",
       "      <td>92.0</td>\n",
       "      <td>54.804348</td>\n",
       "      <td>...</td>\n",
       "      <td>2927.75</td>\n",
       "      <td>27960.0</td>\n",
       "      <td>92.0</td>\n",
       "      <td>0.970870</td>\n",
       "      <td>0.018907</td>\n",
       "      <td>0.88</td>\n",
       "      <td>0.97</td>\n",
       "      <td>0.98</td>\n",
       "      <td>0.98</td>\n",
       "      <td>0.99</td>\n",
       "    </tr>\n",
       "  </tbody>\n",
       "</table>\n",
       "<p>2 rows × 32 columns</p>\n",
       "</div>"
      ],
      "text/plain": [
       "       time                                                          \\\n",
       "      count          mean           std           min           25%   \n",
       "nsfw                                                                  \n",
       "0     908.0  1.600160e+09  13693.900563  1.600118e+09  1.600151e+09   \n",
       "1      92.0  1.600161e+09  12416.817225  1.600129e+09  1.600158e+09   \n",
       "\n",
       "                                               num_comments              ...  \\\n",
       "               50%           75%           max        count        mean  ...   \n",
       "nsfw                                                                     ...   \n",
       "0     1.600164e+09  1.600171e+09  1.600183e+09        908.0  236.007709  ...   \n",
       "1     1.600166e+09  1.600170e+09  1.600182e+09         92.0   54.804348  ...   \n",
       "\n",
       "     num_upvotes           upvote_ratio                                        \\\n",
       "             75%       max        count      mean       std   min   25%   50%   \n",
       "nsfw                                                                            \n",
       "0        7399.50  100033.0        908.0  0.965374  0.033502  0.65  0.96  0.98   \n",
       "1        2927.75   27960.0         92.0  0.970870  0.018907  0.88  0.97  0.98   \n",
       "\n",
       "                  \n",
       "       75%   max  \n",
       "nsfw              \n",
       "0     0.98  1.00  \n",
       "1     0.98  0.99  \n",
       "\n",
       "[2 rows x 32 columns]"
      ]
     },
     "execution_count": 136,
     "metadata": {},
     "output_type": "execute_result"
    }
   ],
   "source": [
    "df.groupby(['nsfw']).describe()"
   ]
  },
  {
   "cell_type": "markdown",
   "metadata": {},
   "source": [
    "# Clean Data\n"
   ]
  },
  {
   "cell_type": "code",
   "execution_count": 137,
   "metadata": {},
   "outputs": [
    {
     "data": {
      "text/plain": [
       "0    [aoc, says, u, s, must, atone, for, rights, vi...\n",
       "1    [the, mandalorian, season, 2, official, traile...\n",
       "2    [russian, opposition, leader, alexei, navalny,...\n",
       "3                                     [the, big, true]\n",
       "4    [til, ray, burton, who, was, the, father, of, ...\n",
       "Name: all_text, dtype: object"
      ]
     },
     "execution_count": 137,
     "metadata": {},
     "output_type": "execute_result"
    }
   ],
   "source": [
    "#Remove punctuacion and special characters based on pattern using RegEx\n",
    "\n",
    "#remove punctuation and special characters\n",
    "tokenizer = RegexpTokenizer(r'\\w+')\n",
    "\n",
    "\n",
    "df['all_text'] = df['all_text'].apply(lambda  x: tokenizer.tokenize(x.lower()))\n",
    "\n",
    "df[\"all_text\"].head()"
   ]
  },
  {
   "cell_type": "markdown",
   "metadata": {},
   "source": [
    "# Remove Stop Words\n"
   ]
  },
  {
   "cell_type": "code",
   "execution_count": 138,
   "metadata": {},
   "outputs": [],
   "source": [
    "def remove_stopwords(text):\n",
    "    words = [w for w in text if w not in stopwords.words('english')]\n",
    "    return words"
   ]
  },
  {
   "cell_type": "code",
   "execution_count": 139,
   "metadata": {},
   "outputs": [],
   "source": [
    "#experimentarei com stop words e posteriormente tentarei sem, porque poderão os textos ficarem muito curtos"
   ]
  },
  {
   "cell_type": "code",
   "execution_count": 140,
   "metadata": {},
   "outputs": [],
   "source": [
    "df['all_text'] = df['all_text'].apply(lambda  x: remove_stopwords(x))"
   ]
  },
  {
   "cell_type": "markdown",
   "metadata": {},
   "source": [
    "# Stemming & Lemmatizing"
   ]
  },
  {
   "cell_type": "code",
   "execution_count": 141,
   "metadata": {},
   "outputs": [],
   "source": [
    "lemmatizer = WordNetLemmatizer()\n",
    "\n",
    "def word_lemmatizer(text):\n",
    "    lem = \" \".join([lemmatizer.lemmatize(i) for i in text])\n",
    "    return lem\n",
    "\n",
    "stemmer = PorterStemmer()\n",
    "\n",
    "def word_stemmer(text):\n",
    "    stem = \" \".join([stemmer.stem(i) for i in text])\n",
    "    return stem"
   ]
  },
  {
   "cell_type": "code",
   "execution_count": 142,
   "metadata": {},
   "outputs": [
    {
     "name": "stdout",
     "output_type": "stream",
     "text": [
      "0      aoc say u must aton right violat whistleblow i...\n",
      "1             mandalorian season 2 offici trailer disney\n",
      "2      russian opposit leader alexei navalni share fi...\n",
      "3                                               big true\n",
      "4      til ray burton father cliff burton use cliff r...\n",
      "                             ...                        \n",
      "995                                          dad sometim\n",
      "996    behold made friend mine made wall friend new a...\n",
      "997                                           anti cheat\n",
      "998                                           wanna join\n",
      "999    arm co founder start save arm campaign keep in...\n",
      "Name: all_text_s, Length: 1000, dtype: object\n"
     ]
    }
   ],
   "source": [
    "df['all_text_l'] = df['all_text'].apply(lambda  x: word_lemmatizer(x))\n",
    "df['all_text_s'] = df['all_text'].apply(lambda  x: word_stemmer(x))\n",
    "\n",
    "print(df['all_text_s'])"
   ]
  },
  {
   "cell_type": "markdown",
   "metadata": {},
   "source": [
    "# Word Cloud Visualization"
   ]
  },
  {
   "cell_type": "code",
   "execution_count": 143,
   "metadata": {},
   "outputs": [],
   "source": [
    "df_sfw = df[df.nsfw==0]\n",
    "df_nsfw = df[df.nsfw==1]\n",
    "\n",
    "def create_word_cloud(df):\n",
    "    \"\"\"\n",
    "        Word cloud requires input of string\n",
    "    \"\"\"\n",
    "    df_list = df['all_text_l'].tolist()\n",
    "    df_string = (\"\").join(df_list)\n",
    "    \n",
    "    wordcloud = WordCloud(max_font_size = 50, max_words=50, margin=0, background_color = \"white\", colormap=\"Reds\").generate(df_string)\n",
    "\n",
    "    plt.figure()\n",
    "    plt.imshow(wordcloud, interpolation='bilinear')\n",
    "    plt.axis(\"off\")\n",
    "    plt.margins(x=0, y=0)\n",
    "    plt.show()\n",
    "    \n"
   ]
  },
  {
   "cell_type": "markdown",
   "metadata": {},
   "source": [
    "Word Cloud - nsfw"
   ]
  },
  {
   "cell_type": "code",
   "execution_count": 144,
   "metadata": {},
   "outputs": [
    {
     "data": {
      "image/png": "[encoded data removed]",
      "text/plain": [
       "<Figure size 432x288 with 1 Axes>"
      ]
     },
     "metadata": {
      "needs_background": "light"
     },
     "output_type": "display_data"
    }
   ],
   "source": [
    "create_word_cloud(df_nsfw)"
   ]
  },
  {
   "cell_type": "markdown",
   "metadata": {},
   "source": [
    "Word Cloud - sfw"
   ]
  },
  {
   "cell_type": "code",
   "execution_count": 145,
   "metadata": {},
   "outputs": [
    {
     "data": {
      "image/png": "[encoded data removed]",
      "text/plain": [
       "<Figure size 432x288 with 1 Axes>"
      ]
     },
     "metadata": {
      "needs_background": "light"
     },
     "output_type": "display_data"
    }
   ],
   "source": [
    "create_word_cloud(df_sfw)"
   ]
  },
  {
   "cell_type": "markdown",
   "metadata": {},
   "source": [
    "# Handle imbalanced datasets"
   ]
  },
  {
   "cell_type": "code",
   "execution_count": 169,
   "metadata": {},
   "outputs": [
    {
     "data": {
      "text/plain": [
       "0    908\n",
       "1     92\n",
       "Name: nsfw, dtype: int64"
      ]
     },
     "execution_count": 169,
     "metadata": {},
     "output_type": "execute_result"
    }
   ],
   "source": [
    "df[\"nsfw\"].value_counts()"
   ]
  },
  {
   "cell_type": "code",
   "execution_count": 170,
   "metadata": {},
   "outputs": [
    {
     "data": {
      "text/plain": [
       "1    92\n",
       "0    92\n",
       "Name: nsfw, dtype: int64"
      ]
     },
     "execution_count": 170,
     "metadata": {},
     "output_type": "execute_result"
    }
   ],
   "source": [
    "# Down-sample Majority Class\n",
    "\n",
    "df_sfw_downsampled = resample(df_sfw, \n",
    "                                 replace=False,    # sample without replacement\n",
    "                                 n_samples=92,     # to match minority class\n",
    "                                 random_state=0)\n",
    "\n",
    "df_downsampled = pd.concat([df_sfw_downsampled, df_nsfw])\n",
    "df_downsampled.nsfw.value_counts()"
   ]
  },
  {
   "cell_type": "markdown",
   "metadata": {},
   "source": [
    "# Split train and test data"
   ]
  },
  {
   "cell_type": "code",
   "execution_count": 171,
   "metadata": {},
   "outputs": [
    {
     "name": "stdout",
     "output_type": "stream",
     "text": [
      "(147,) (147,)\n",
      "(37,) (37,)\n"
     ]
    }
   ],
   "source": [
    "#define target var\n",
    "y=df_downsampled['nsfw']\n",
    "\n",
    "X_train, X_test, y_train, y_test = train_test_split(df_downsampled['all_text_l'], y, test_size=0.2, random_state=0)\n",
    "print(X_train.shape, y_train.shape)\n",
    "print(X_test.shape, y_test.shape)"
   ]
  },
  {
   "cell_type": "markdown",
   "metadata": {},
   "source": [
    "# Tf-IDF Vectorizer"
   ]
  },
  {
   "cell_type": "code",
   "execution_count": 172,
   "metadata": {},
   "outputs": [],
   "source": [
    "#Naives bayes requires Tf-IDF vectors\n",
    "\n",
    "x_lst = X_train.tolist()\n",
    "y_lst = y_test.tolist()\n",
    "vectorizer = TfidfVectorizer()\n",
    "vetor_train_transformed = vectorizer.fit_transform(x_lst) #gives tf idf vector for x_train\n",
    "vetor_test_transformed  = vectorizer.transform(X_test) #gives tf idf vector for x_test"
   ]
  },
  {
   "cell_type": "markdown",
   "metadata": {},
   "source": [
    "# Fit/Train Model"
   ]
  },
  {
   "cell_type": "code",
   "execution_count": 173,
   "metadata": {},
   "outputs": [
    {
     "data": {
      "text/plain": [
       "MultinomialNB()"
      ]
     },
     "execution_count": 173,
     "metadata": {},
     "output_type": "execute_result"
    }
   ],
   "source": [
    "model = MultinomialNB()\n",
    "model.fit(vetor_train_transformed, y_train)"
   ]
  },
  {
   "cell_type": "code",
   "execution_count": 174,
   "metadata": {},
   "outputs": [],
   "source": [
    "pred = model.predict(vetor_test_transformed)"
   ]
  },
  {
   "cell_type": "code",
   "execution_count": 177,
   "metadata": {},
   "outputs": [
    {
     "name": "stdout",
     "output_type": "stream",
     "text": [
      "Confusion Matrix :\n",
      "[[13  2]\n",
      " [ 9 13]]\n",
      "Accuracy Score : 0.7027027027027027\n",
      "Report : \n",
      "              precision    recall  f1-score   support\n",
      "\n",
      "           0       0.59      0.87      0.70        15\n",
      "           1       0.87      0.59      0.70        22\n",
      "\n",
      "    accuracy                           0.70        37\n",
      "   macro avg       0.73      0.73      0.70        37\n",
      "weighted avg       0.75      0.70      0.70        37\n",
      "\n",
      "F-Measure: 0.703\n"
     ]
    }
   ],
   "source": [
    "matrix = confusion_matrix(y_lst, pred)\n",
    "print('Confusion Matrix :')\n",
    "print(matrix)\n",
    "print ('Accuracy Score :',accuracy_score(y_lst, pred))\n",
    "print ('Report : ')\n",
    "print (classification_report(y_lst, pred) )\n",
    "score_2 = f1_score(y_lst, pred, average = 'binary')\n",
    "print('F-Measure: %.3f' % score_2)"
   ]
  },
  {
   "cell_type": "code",
   "execution_count": null,
   "metadata": {},
   "outputs": [],
   "source": []
  }
 ],
 "metadata": {
  "kernelspec": {
   "display_name": "Python 3",
   "language": "python",
   "name": "python3"
  },
  "language_info": {
   "codemirror_mode": {
    "name": "ipython",
    "version": 3
   },
   "file_extension": ".py",
   "mimetype": "text/x-python",
   "name": "python",
   "nbconvert_exporter": "python",
   "pygments_lexer": "ipython3",
   "version": "3.8.3"
  }
 },
 "nbformat": 4,
 "nbformat_minor": 4
}
